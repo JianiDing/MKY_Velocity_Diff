{
 "cells": [
  {
   "cell_type": "code",
   "execution_count": 15,
   "metadata": {},
   "outputs": [],
   "source": [
    "import matplotlib.pyplot as plt\n",
    "plt.style.use(['classic'])\n",
    "import pymc3 as pm\n",
    "import numpy as np\n",
    "import pandas as pd\n",
    "from scipy.interpolate import interp1d\n",
    "from astropy.io import fits\n",
    "import theano.tensor as tt\n",
    "from scipy import stats\n",
    "from scipy.stats import binned_statistic\n",
    "from scipy.linalg import block_diag,eigh\n",
    "plt.rcParams['font.family']='stixgeneral'\n",
    "plt.rcParams.update({'font.size':16})\n",
    "from astropy.io import fits\n",
    "import ebf"
   ]
  },
  {
   "cell_type": "code",
   "execution_count": 16,
   "metadata": {
    "collapsed": true
   },
   "outputs": [],
   "source": [
    "def make_csv(data_name, deg): #string, float (rotation angle in degrees)\n",
    "    import ebf\n",
    "    import pandas as pd\n",
    "    import numpy as np\n",
    "\n",
    "\n",
    "    rot=deg*np.pi/180. #angle in radians\n",
    "\n",
    "    data=ebf.read(data_name+'.ebf') #reads in ebf file for galaxia output\n",
    "    df=pd.DataFrame() #creates empty pandas DataFrame\n",
    "    keys=data.keys() #creates list of keys for the ebf file\n",
    "    #    print keys\n",
    "    for name in keys: #for each list in the ebf file, create a dataframe column with that key as a column name\n",
    "        s=pd.Series(data[name])\n",
    "        df[name]=s\n",
    "\n",
    "    #set original output positions and velocities as xx_0. These are in the unrotated frame where x-axis does not always point to galactic center\n",
    "    df['glon_0']=df['glon']\n",
    "    df['glat_0']=df['glat']\n",
    "    df['px_0']=df['px']\n",
    "    df['py_0']=df['py']\n",
    "    df['pz_0']=df['pz']\n",
    "    df['vx_0']=df['vx']\n",
    "    df['vy_0']=df['vy']\n",
    "    df['vz_0']=df['vz']\n",
    "\n",
    "    #set outputs by rotating so x-axis points to galactic center\n",
    "    df['glon']=(df['l_0']-deg)%360\n",
    "    df['glat']=df['b_0']\n",
    "    df['px']=df['x_0']*np.cos(rot)+df['y_0']*np.sin(rot)\n",
    "    df['py']=-df['x_0']*np.sin(rot)+df['y_0']*np.cos(rot)\n",
    "    df['pz']=df['z_0']\n",
    "    df['vx']=df['vx_0']*np.cos(rot)+df['vy_0']*np.sin(rot)\n",
    "    df['vy']=-df['vx_0']*np.sin(rot)+df['vy_0']*np.cos(rot)\n",
    "    df['vz']=df['vz_0']\n",
    "\n",
    "    #set original center values\n",
    "    o_cen=np.full(len(df.l), np.nan)\n",
    "    o_cen[0:6]=[-8.0, 0.0, 0.015, 11.1, 239.08, 7.25]\n",
    "    df['orig_center']=o_cen\n",
    "\n",
    "    df.to_csv(data_name+'.csv', index=False) #save as CSV with same base name that can be opened in python 3\n",
    "#    return df\n",
    "\n"
   ]
  },
  {
   "cell_type": "code",
   "execution_count": null,
   "metadata": {
    "collapsed": true
   },
   "outputs": [],
   "source": [
    "make_csv(data_name, 90)"
   ]
  },
  {
   "cell_type": "code",
   "execution_count": null,
   "metadata": {
    "collapsed": true
   },
   "outputs": [],
   "source": []
  },
  {
   "cell_type": "code",
   "execution_count": null,
   "metadata": {
    "collapsed": true
   },
   "outputs": [],
   "source": []
  },
  {
   "cell_type": "code",
   "execution_count": null,
   "metadata": {
    "collapsed": true
   },
   "outputs": [],
   "source": []
  },
  {
   "cell_type": "code",
   "execution_count": null,
   "metadata": {
    "collapsed": true
   },
   "outputs": [],
   "source": []
  }
 ],
 "metadata": {
  "kernelspec": {
   "display_name": "Python 3",
   "language": "python",
   "name": "python3"
  },
  "language_info": {
   "codemirror_mode": {
    "name": "ipython",
    "version": 3
   },
   "file_extension": ".py",
   "mimetype": "text/x-python",
   "name": "python",
   "nbconvert_exporter": "python",
   "pygments_lexer": "ipython3",
   "version": "3.6.8"
  }
 },
 "nbformat": 4,
 "nbformat_minor": 2
}
