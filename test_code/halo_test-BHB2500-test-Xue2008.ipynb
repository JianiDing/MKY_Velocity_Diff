{
 "cells": [
  {
   "cell_type": "code",
   "execution_count": 1,
   "metadata": {},
   "outputs": [
    {
     "name": "stderr",
     "output_type": "stream",
     "text": [
      "/Users/Jenny/anaconda3/lib/python3.6/importlib/_bootstrap.py:219: RuntimeWarning: numpy.dtype size changed, may indicate binary incompatibility. Expected 96, got 88\n",
      "  return f(*args, **kwds)\n",
      "/Users/Jenny/anaconda3/lib/python3.6/importlib/_bootstrap.py:219: RuntimeWarning: numpy.dtype size changed, may indicate binary incompatibility. Expected 96, got 88\n",
      "  return f(*args, **kwds)\n",
      "/Users/Jenny/anaconda3/lib/python3.6/importlib/_bootstrap.py:219: RuntimeWarning: numpy.dtype size changed, may indicate binary incompatibility. Expected 96, got 88\n",
      "  return f(*args, **kwds)\n"
     ]
    }
   ],
   "source": [
    "import matplotlib.pyplot as plt\n",
    "plt.style.use(['classic'])\n",
    "import numpy as np\n",
    "import pandas as pd\n",
    "from scipy.interpolate import interp1d\n",
    "from astropy.io import fits\n",
    "from scipy import stats\n",
    "from scipy.stats import binned_statistic\n",
    "from scipy.linalg import block_diag,eigh\n",
    "plt.rcParams['font.family']='stixgeneral'\n",
    "plt.rcParams.update({'font.size':16})\n",
    "from astropy.io import fits\n",
    "import ebf\n",
    "import pdb\n",
    "from mpl_toolkits.mplot3d import Axes3D\n",
    "from astropy.coordinates import (CartesianRepresentation,CartesianDifferential)\n",
    "from astropy.coordinates import Galactic\n",
    "\n",
    "from astropy.coordinates import SkyCoord"
   ]
  },
  {
   "cell_type": "code",
   "execution_count": 2,
   "metadata": {
    "collapsed": true
   },
   "outputs": [],
   "source": [
    "import csv\n",
    "import pandas\n",
    "from astropy.table import Table, Column, MaskedColumn\n",
    "from astropy import units as u\n"
   ]
  },
  {
   "cell_type": "code",
   "execution_count": 24,
   "metadata": {
    "collapsed": true
   },
   "outputs": [],
   "source": [
    "#read in the data from Xue 2208 et al. (~2500 BHB stars)\n",
    "t = Table.read(\"BHB2500.txt\", format=\"ascii.cds\")"
   ]
  },
  {
   "cell_type": "code",
   "execution_count": 25,
   "metadata": {},
   "outputs": [
    {
     "name": "stdout",
     "output_type": "stream",
     "text": [
      "    SpName               Name            RAdeg    ...  log(g)  FeH  Type\n",
      "                                          deg     ... [cm.s2]  [-]      \n",
      "-------------- ----------------------- ---------- ... ------- ----- ----\n",
      "51602-0266-125 SDSSJ094317.57-011021.2 145.823196 ...    3.12 -2.03  BHB\n",
      "51602-0266-397 SDSSJ094138.17+001821.5 145.409058 ...    3.81 -1.97  BHB\n",
      "51602-0266-634 SDSSJ094840.23+002818.0 147.167633 ...     4.2 -1.27  BHB\n",
      "51609-0292-102 SDSSJ125223.54-003708.2 193.098083 ...    2.61 -1.96  BHB\n",
      "51609-0292-329 SDSSJ124641.66+003751.2 191.673569 ...    2.95  -2.0  BHB\n",
      "51609-0292-351 SDSSJ124449.35+002157.4 191.205612 ...    3.11 -1.43  BHB\n",
      "51609-0292-582 SDSSJ125254.01+002903.2 193.225037 ...    3.14 -1.66  BHB\n",
      "51609-0304-219 SDSSJ141723.88-002220.8 214.349503 ...   -9.99 -9.99  BHB\n",
      "51613-0305-243 SDSSJ142408.24-002930.7 216.034348 ...    3.68 -2.26  BHB\n",
      "51613-0305-488 SDSSJ142826.28+002915.4 217.109497 ...    2.87 -2.95  BHB\n",
      "           ...                     ...        ... ...     ...   ...  ...\n",
      "53918-2198-483 SDSSJ161641.44+153830.0 244.172684 ...    3.33 -1.62  BHB\n",
      "53918-2198-500 SDSSJ161543.40+152726.4 243.930817 ...   -9.99 -9.99  BHB\n",
      "53918-2539-147 SDSSJ143408.07+574450.8 218.533646 ...    3.17 -2.19  BHB\n",
      "53918-2539-345 SDSSJ142116.00+584146.2 215.316681 ...    3.47 -2.01  BHB\n",
      "53918-2539-406 SDSSJ142943.23+590404.0 217.430115 ...     3.3 -2.34  BHB\n",
      "53918-2539-418 SDSSJ142839.40+592006.2 217.164185 ...    3.39 -2.31  BHB\n",
      "53918-2539-429 SDSSJ142635.19+584255.0 216.646637 ...    3.81 -1.88  BHB\n",
      "53918-2539-544 SDSSJ143656.07+583857.3 219.233627 ...    3.39 -1.86  BHB\n",
      "53918-2539-558 SDSSJ143607.88+581707.8 219.032837 ...    3.78 -1.55  BHB\n",
      "             }                      --         -- ...      --    --   --\n",
      "Length = 2559 rows\n"
     ]
    }
   ],
   "source": [
    "print (t)"
   ]
  },
  {
   "cell_type": "code",
   "execution_count": 134,
   "metadata": {
    "collapsed": true
   },
   "outputs": [],
   "source": [
    "zmin = 20\n",
    "zmax = 60\n",
    "zlim = 4."
   ]
  },
  {
   "cell_type": "code",
   "execution_count": 44,
   "metadata": {
    "collapsed": true
   },
   "outputs": [],
   "source": [
    "# cutting r and z > 20 & r < 60 kpc stars \n",
    "df1=pd.DataFrame()\n",
    "df2=pd.DataFrame()\n",
    "df1['x']=t['x'][ (zmin < t['r'] ) & (t['r'] < zmax ) ]\n",
    "df1['y']=t['y'][ (zmin < t['r'] ) & (t['r'] < zmax ) ]\n",
    "df1['z']=t['z'][ (zmin < t['r'] ) & (t['r'] < zmax ) ]\n",
    "df1['Vgal']= t['RVgal'][ (zmin < t['r'] ) & (t['r'] < zmax ) ]\n",
    "df1['r']= t['r'][ (zmin < t['r'] ) & (t['r'] < zmax )]\n",
    "df2['r']=df1['r'][(np.absolute(df1['z']) > zlim)]\n",
    "df2['x']=df1['x'][(np.absolute(df1['z']) > zlim)]\n",
    "df2['y']=df1['y'][(np.absolute(df1['z']) > zlim) ]\n",
    "df2['z']=df1['z'][(np.absolute(df1['z']) > zlim)]\n",
    "df2['Vgal']= df1['Vgal'][(np.absolute(df1['z']) > zlim)]"
   ]
  },
  {
   "cell_type": "code",
   "execution_count": 153,
   "metadata": {
    "collapsed": true
   },
   "outputs": [],
   "source": [
    "#data for verifying Xue 2008 et al paper \n",
    "df3 = pd.DataFrame()\n",
    "df3['x']=t['x'][ (np.absolute(t['z']) > zlim) ]\n",
    "df3['y']=t['y'][ (np.absolute(t['z']) > zlim) ]\n",
    "df3['z']=t['z'][ (np.absolute(t['z']) > zlim) ]\n",
    "df3['Vgal']= t['RVgal'][ (np.absolute(t['z']) > zlim) ]\n",
    "df3['r']= t['r'][(np.absolute(t['z']) > zlim)]"
   ]
  },
  {
   "cell_type": "code",
   "execution_count": 154,
   "metadata": {},
   "outputs": [
    {
     "data": {
      "text/plain": [
       "2424"
      ]
     },
     "execution_count": 154,
     "metadata": {},
     "output_type": "execute_result"
    }
   ],
   "source": [
    "len(df3['r'])"
   ]
  },
  {
   "cell_type": "code",
   "execution_count": 155,
   "metadata": {
    "collapsed": true
   },
   "outputs": [],
   "source": [
    "#class for the input of the correlation function \n",
    "class Comp:\n",
    "    def __init__(self,x,y,z,rv):\n",
    "        '''\n",
    "        class for the input of the correlation function \n",
    "        :param x: x position for the target \n",
    "        :param y: y position for the target \n",
    "        :param z: z position for the target\n",
    "        :param rv: radial velocity for the target \n",
    "        \n",
    "        '''\n",
    "\n",
    "        self.x = np.array(x)\n",
    "        self.y = np.array(y)\n",
    "        self.z = np.array(z)\n",
    "        self.rv = np.array(rv)\n",
    "\n"
   ]
  },
  {
   "cell_type": "code",
   "execution_count": null,
   "metadata": {
    "collapsed": true
   },
   "outputs": [],
   "source": []
  },
  {
   "cell_type": "code",
   "execution_count": 138,
   "metadata": {
    "collapsed": true
   },
   "outputs": [],
   "source": [
    "k= Comp(df3['x'],df3['y'],df3['z'],df3['Vgal'])"
   ]
  },
  {
   "cell_type": "code",
   "execution_count": 139,
   "metadata": {
    "collapsed": true
   },
   "outputs": [],
   "source": [
    "# calculating the correlation function \n",
    "def correlated_function(data,w):\n",
    "    '''\n",
    "        Function for  calculating the correlation function \n",
    "        :param data: data for calculating the correlation function (x,y,z, radial velocity)\n",
    "        :param w: parameter w in the equation of the correlation function \n",
    "        :return: phase-space separation (delta)^2\n",
    "        \n",
    "    '''\n",
    "\n",
    "    dia=[]\n",
    "    vdiff = []\n",
    "    spacedt = []\n",
    "    for ii in range(0,len(data.rv)): \n",
    "        \n",
    "        \n",
    "    \n",
    "        vi = np.repeat(data.rv[ii],len(data.rv))\n",
    "        xi = np.repeat(data.x[ii],len(data.rv))\n",
    "        yi = np.repeat(data.y[ii],len(data.rv))\n",
    "        zi = np.repeat(data.z[ii],len(data.rv))\n",
    "        \n",
    "        diffv = w**2*(vi - data.rv)**2\n",
    "        diffx = (xi - data.x)**2\n",
    "        diffy = (yi - data.y)**2\n",
    "        diffz = (zi - data.z)**2\n",
    "        \n",
    "        \n",
    "        \n",
    "        \n",
    "        diff = diffv+diffx+diffy+diffz\n",
    "        spaced = diffx+diffy+diffz\n",
    "        #print (diffv, diffx, diffy, diffz,diff)\n",
    "            \n",
    "            \n",
    "        dia.append(diff)\n",
    "        vdiff.append(np.absolute(vi - data.rv))\n",
    "        spacedt.append(np.sqrt(spaced))\n",
    "        \n",
    "        \n",
    "    diaf = np.array(dia)[np.triu_indices(len(diff),1)]\n",
    "    vdiffto = np.array(vdiff)[np.triu_indices(len(diff),1)]\n",
    "    specdto = np.array(spacedt)[np.triu_indices(len(diff),1)]\n",
    "    return diaf,vdiffto,specdto\n",
    "    \n",
    "    \n",
    "        \n",
    "        \n",
    "    \n",
    "    "
   ]
  },
  {
   "cell_type": "code",
   "execution_count": 140,
   "metadata": {
    "collapsed": true
   },
   "outputs": [],
   "source": [
    "c = SkyCoord(x=df2['x'], y=df2['y'], z=df2['z'], unit='kpc',representation_type='cartesian')"
   ]
  },
  {
   "cell_type": "code",
   "execution_count": 141,
   "metadata": {
    "collapsed": true
   },
   "outputs": [],
   "source": [
    "testcor,testvd,testspaced = correlated_function(k,1)"
   ]
  },
  {
   "cell_type": "code",
   "execution_count": 142,
   "metadata": {
    "collapsed": true
   },
   "outputs": [],
   "source": [
    "logspc = np.log10(testspaced)"
   ]
  },
  {
   "cell_type": "code",
   "execution_count": 144,
   "metadata": {
    "collapsed": true
   },
   "outputs": [],
   "source": [
    "sortspc = sorted(logspc)\n",
    "sort_index = np.argsort(logspc)\n",
    "sortv = testvd[sort_index]"
   ]
  },
  {
   "cell_type": "code",
   "execution_count": 145,
   "metadata": {
    "collapsed": true
   },
   "outputs": [],
   "source": [
    "sortvf = np.array(sortv)[(np.array(sortspc) > 0)& (np.array(sortspc) < 2.05)]\n",
    "sortspcf = np.array(sortspc)[(np.array(sortspc) > 0)& (np.array(sortspc) < 2.05)]"
   ]
  },
  {
   "cell_type": "code",
   "execution_count": 146,
   "metadata": {
    "collapsed": true
   },
   "outputs": [],
   "source": [
    "from scipy import stats"
   ]
  },
  {
   "cell_type": "code",
   "execution_count": 147,
   "metadata": {
    "collapsed": true
   },
   "outputs": [],
   "source": [
    "binspc = stats.binned_statistic(sortspcf,sortspcf, 'mean', bins=18)\n",
    "binv = stats.binned_statistic(sortspcf, sortvf , 'mean', bins=18)"
   ]
  },
  {
   "cell_type": "code",
   "execution_count": 148,
   "metadata": {},
   "outputs": [
    {
     "data": {
      "text/plain": [
       "array([9.64327467e-17, 1.13888732e-01, 2.27777463e-01, 3.41666195e-01,\n",
       "       4.55554926e-01, 5.69443658e-01, 6.83332390e-01, 7.97221121e-01,\n",
       "       9.11109853e-01, 1.02499858e+00, 1.13888732e+00, 1.25277605e+00,\n",
       "       1.36666478e+00, 1.48055351e+00, 1.59444224e+00, 1.70833097e+00,\n",
       "       1.82221971e+00, 1.93610844e+00])"
      ]
     },
     "execution_count": 148,
     "metadata": {},
     "output_type": "execute_result"
    }
   ],
   "source": [
    "binspc[1][:-1]"
   ]
  },
  {
   "cell_type": "code",
   "execution_count": 152,
   "metadata": {},
   "outputs": [
    {
     "data": {
      "image/png": "[encoded data removed]",
      "text/plain": [
       "<Figure size 640x480 with 1 Axes>"
      ]
     },
     "metadata": {},
     "output_type": "display_data"
    }
   ],
   "source": [
    "#final plot for verifying Xue's data\n",
    "plt.plot(binspc[0],binv[0],'o')\n",
    "plt.ylim(0,200)\n",
    "plt.ylabel('<|delta v|> (km/s)')\n",
    "plt.xlabel('log10 delta r (kpc)')\n",
    "plt.show()"
   ]
  },
  {
   "cell_type": "code",
   "execution_count": 13,
   "metadata": {
    "collapsed": true
   },
   "outputs": [],
   "source": [
    "lb_random = Comp(df2['r'],c.galactic.l/u.degree,c.galactic.b/u.degree,df2['Vgal'])"
   ]
  }
 ],
 "metadata": {
  "kernelspec": {
   "display_name": "Python 3",
   "language": "python",
   "name": "python3"
  },
  "language_info": {
   "codemirror_mode": {
    "name": "ipython",
    "version": 3
   },
   "file_extension": ".py",
   "mimetype": "text/x-python",
   "name": "python",
   "nbconvert_exporter": "python",
   "pygments_lexer": "ipython3",
   "version": "3.6.8"
  }
 },
 "nbformat": 4,
 "nbformat_minor": 2
}
