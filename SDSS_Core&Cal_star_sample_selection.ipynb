{
 "cells": [
  {
   "cell_type": "markdown",
   "metadata": {},
   "source": [
    "# Notebook for SDSS Core Star & Calibration Star Sample Selection "
   ]
  },
  {
   "cell_type": "markdown",
   "metadata": {},
   "source": [
    "1. SDSS Core Sample:\n",
    "CORE selection is homogeneous selection (homogeneous in space). It combines an optical selection in (u,g,r,i,z) bands and a mid-IR-optical color cut.\n",
    " \n",
    "2. Calibration Star Sample:\n",
    "The SDSS system is close to AB system. \n",
    "Selection Criteria:\n",
    "STATIONARY in OBJECT2 object flags SURVEY_PRIMARY in RESOLVE_STATUS flags PHOTOMETRIC  in CALIB_STATUS flags.\n",
    "15.0 < r < 19\n",
    "[((u–g) – 0.82)2 + ((g–r) – 0.30)2 + ((r–i) – 0.09)2 + ((i–z) – 0.02)2]1/2 < 0.0\n",
    "\n",
    "3. Casjob Sample Selection:\n",
    "Calibration Star Sample selection:\n",
    "\n",
    "boss cal star f type sample:\n",
    "SELECT s.RA,s.DEC, s.specObjID, s.spectroFluxIvar_u,s.spectroFluxIvar_g,s.spectroFluxIvar_r,s.spectroFluxIvar_i, s.zErr,s.subClass, p.psfmag_u, p.psfmag_r, p.psfmag_g into mydb.MyTable_calstarboss from PhotoObjAll AS p\n",
    "JOIN SpecObjAll AS s ON p.objID = s.bestObjID\n",
    "WHERE (boss_target1 & 1048576) > 0 AND s.class = ‘STAR’\n",
    "\n",
    "Core Star Sample Selection:\n",
    "\n",
    "SELECT  s.mjd, s.plate, s.fiberid, p.I, p.b, s.RA,s.DEC,s.z,s.zErr,s.elodieZ,s.elodieZErr, p.psfmag_u, p.psfmag_r, p.psfmag_g into mydb.MyTable_corestarbossplate from PhotoObjAll AS p\n",
    "JOIN SpecObjAll AS s ON p.objID = s.bestObjID\n",
    "WHERE (s.boss_target1 & 0x0000010000000000) != 0  AND s.Class = 'star'\n",
    "\n"
   ]
  },
  {
   "cell_type": "markdown",
   "metadata": {},
   "source": [
    "# SDSS_Core/Cal_star_sample_selection Result"
   ]
  },
  {
   "cell_type": "markdown",
   "metadata": {},
   "source": [
    "Sampel summary:\n",
    "\n",
    "https://docs.google.com/presentation/d/1Oodk-iYhvR7c1ftVcC5df162QpWC8kmXFN16hPH25tE/edit#slide=id.g77052a4713_0_0\n",
    "    "
   ]
  },
  {
   "cell_type": "markdown",
   "metadata": {},
   "source": [
    "Reasons for choosing SDSS Core Sample:\n",
    "\n",
    " S/N and Mag distribution have high probability for satisfying our scientific goal compared to other samples."
   ]
  },
  {
   "cell_type": "code",
   "execution_count": null,
   "metadata": {
    "collapsed": true
   },
   "outputs": [],
   "source": []
  }
 ],
 "metadata": {
  "kernelspec": {
   "display_name": "Python 3",
   "language": "python",
   "name": "python3"
  },
  "language_info": {
   "codemirror_mode": {
    "name": "ipython",
    "version": 3
   },
   "file_extension": ".py",
   "mimetype": "text/x-python",
   "name": "python",
   "nbconvert_exporter": "python",
   "pygments_lexer": "ipython3",
   "version": "3.6.8"
  }
 },
 "nbformat": 4,
 "nbformat_minor": 2
}
