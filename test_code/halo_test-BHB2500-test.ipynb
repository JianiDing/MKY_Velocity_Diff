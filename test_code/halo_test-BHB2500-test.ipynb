{
 "cells": [
  {
   "cell_type": "code",
   "execution_count": 1,
   "metadata": {},
   "outputs": [
    {
     "name": "stderr",
     "output_type": "stream",
     "text": [
      "/Users/Jenny/anaconda3/lib/python3.6/importlib/_bootstrap.py:219: RuntimeWarning: numpy.dtype size changed, may indicate binary incompatibility. Expected 96, got 88\n",
      "  return f(*args, **kwds)\n",
      "/Users/Jenny/anaconda3/lib/python3.6/importlib/_bootstrap.py:219: RuntimeWarning: numpy.dtype size changed, may indicate binary incompatibility. Expected 96, got 88\n",
      "  return f(*args, **kwds)\n",
      "/Users/Jenny/anaconda3/lib/python3.6/importlib/_bootstrap.py:219: RuntimeWarning: numpy.dtype size changed, may indicate binary incompatibility. Expected 96, got 88\n",
      "  return f(*args, **kwds)\n"
     ]
    }
   ],
   "source": [
    "import matplotlib.pyplot as plt\n",
    "plt.style.use(['classic'])\n",
    "import numpy as np\n",
    "import pandas as pd\n",
    "from scipy.interpolate import interp1d\n",
    "from astropy.io import fits\n",
    "from scipy import stats\n",
    "from scipy.stats import binned_statistic\n",
    "from scipy.linalg import block_diag,eigh\n",
    "plt.rcParams['font.family']='stixgeneral'\n",
    "plt.rcParams.update({'font.size':16})\n",
    "from astropy.io import fits\n",
    "import ebf\n",
    "import pdb\n",
    "from mpl_toolkits.mplot3d import Axes3D\n",
    "from astropy.coordinates import (CartesianRepresentation,CartesianDifferential)\n",
    "from astropy.coordinates import Galactic\n",
    "\n",
    "from astropy.coordinates import SkyCoord"
   ]
  },
  {
   "cell_type": "code",
   "execution_count": 2,
   "metadata": {
    "collapsed": true
   },
   "outputs": [],
   "source": [
    "import csv\n",
    "import pandas\n",
    "from astropy.table import Table, Column, MaskedColumn\n",
    "from astropy import units as u\n"
   ]
  },
  {
   "cell_type": "code",
   "execution_count": 3,
   "metadata": {},
   "outputs": [
    {
     "name": "stderr",
     "output_type": "stream",
     "text": [
      "WARNING: UnitsWarning: '[cm.s2]' did not parse as cds unit: Invalid character at col 0 [astropy.units.core]\n",
      "WARNING: UnitsWarning: '[-]' did not parse as cds unit: Invalid character at col 0 [astropy.units.core]\n"
     ]
    }
   ],
   "source": [
    "#read in the data from Xue 2208 et al. (~2500 BHB stars)\n",
    "t = Table.read(\"BHB2500.txt\", format=\"ascii.cds\")"
   ]
  },
  {
   "cell_type": "code",
   "execution_count": 4,
   "metadata": {},
   "outputs": [
    {
     "name": "stdout",
     "output_type": "stream",
     "text": [
      "    SpName               Name            RAdeg    ...  log(g)  FeH  Type\n",
      "                                          deg     ... [cm.s2]  [-]      \n",
      "-------------- ----------------------- ---------- ... ------- ----- ----\n",
      "51602-0266-125 SDSSJ094317.57-011021.2 145.823196 ...    3.12 -2.03  BHB\n",
      "51602-0266-397 SDSSJ094138.17+001821.5 145.409058 ...    3.81 -1.97  BHB\n",
      "51602-0266-634 SDSSJ094840.23+002818.0 147.167633 ...     4.2 -1.27  BHB\n",
      "51609-0292-102 SDSSJ125223.54-003708.2 193.098083 ...    2.61 -1.96  BHB\n",
      "51609-0292-329 SDSSJ124641.66+003751.2 191.673569 ...    2.95  -2.0  BHB\n",
      "51609-0292-351 SDSSJ124449.35+002157.4 191.205612 ...    3.11 -1.43  BHB\n",
      "51609-0292-582 SDSSJ125254.01+002903.2 193.225037 ...    3.14 -1.66  BHB\n",
      "51609-0304-219 SDSSJ141723.88-002220.8 214.349503 ...   -9.99 -9.99  BHB\n",
      "51613-0305-243 SDSSJ142408.24-002930.7 216.034348 ...    3.68 -2.26  BHB\n",
      "51613-0305-488 SDSSJ142826.28+002915.4 217.109497 ...    2.87 -2.95  BHB\n",
      "           ...                     ...        ... ...     ...   ...  ...\n",
      "53918-2198-483 SDSSJ161641.44+153830.0 244.172684 ...    3.33 -1.62  BHB\n",
      "53918-2198-500 SDSSJ161543.40+152726.4 243.930817 ...   -9.99 -9.99  BHB\n",
      "53918-2539-147 SDSSJ143408.07+574450.8 218.533646 ...    3.17 -2.19  BHB\n",
      "53918-2539-345 SDSSJ142116.00+584146.2 215.316681 ...    3.47 -2.01  BHB\n",
      "53918-2539-406 SDSSJ142943.23+590404.0 217.430115 ...     3.3 -2.34  BHB\n",
      "53918-2539-418 SDSSJ142839.40+592006.2 217.164185 ...    3.39 -2.31  BHB\n",
      "53918-2539-429 SDSSJ142635.19+584255.0 216.646637 ...    3.81 -1.88  BHB\n",
      "53918-2539-544 SDSSJ143656.07+583857.3 219.233627 ...    3.39 -1.86  BHB\n",
      "53918-2539-558 SDSSJ143607.88+581707.8 219.032837 ...    3.78 -1.55  BHB\n",
      "             }                      --         -- ...      --    --   --\n",
      "Length = 2559 rows\n"
     ]
    }
   ],
   "source": [
    "print (t)"
   ]
  },
  {
   "cell_type": "code",
   "execution_count": 6,
   "metadata": {
    "collapsed": true
   },
   "outputs": [],
   "source": [
    "zmin = 20\n",
    "zmax = 60"
   ]
  },
  {
   "cell_type": "code",
   "execution_count": 141,
   "metadata": {
    "collapsed": true
   },
   "outputs": [],
   "source": [
    "# cutting r > 20 & r < 60 kpc stars \n",
    "df2=pd.DataFrame()\n",
    "df2['x']=t['x'][ (zmin < t['r'] ) & (t['r'] < zmax ) ]\n",
    "df2['y']=t['y'][ (zmin < t['r'] ) & (t['r'] < zmax ) ]\n",
    "df2['z']=t['z'][ (zmin < t['r'] ) & (t['r'] < zmax ) ]\n",
    "df2['Vgal']= t['RVgal'][ (zmin < t['r'] ) & (t['r'] < zmax ) ]\n",
    "df2['r']= t['r'][ (zmin < t['r'] ) & (t['r'] < zmax ) ]\n",
    "                 "
   ]
  },
  {
   "cell_type": "code",
   "execution_count": null,
   "metadata": {
    "collapsed": true
   },
   "outputs": [],
   "source": []
  },
  {
   "cell_type": "code",
   "execution_count": null,
   "metadata": {
    "collapsed": true
   },
   "outputs": [],
   "source": []
  },
  {
   "cell_type": "code",
   "execution_count": 143,
   "metadata": {
    "collapsed": true
   },
   "outputs": [],
   "source": [
    "#class for the input of the correlation function \n",
    "class Comp:\n",
    "    def __init__(self,x,y,z,rv):\n",
    "        '''\n",
    "        class for the input of the correlation function \n",
    "        :param x: x position for the target \n",
    "        :param y: y position for the target \n",
    "        :param z: z position for the target\n",
    "        :param rv: radial velocity for the target \n",
    "        \n",
    "        '''\n",
    "\n",
    "        self.x = np.array(x)\n",
    "        self.y = np.array(y)\n",
    "        self.z = np.array(z)\n",
    "        self.rv = np.array(rv)\n",
    "\n"
   ]
  },
  {
   "cell_type": "code",
   "execution_count": null,
   "metadata": {
    "collapsed": true
   },
   "outputs": [],
   "source": []
  },
  {
   "cell_type": "code",
   "execution_count": 144,
   "metadata": {
    "collapsed": true
   },
   "outputs": [],
   "source": [
    "k= Comp(df2['x'],df2['y'],df2['z'],df2['Vgal'])"
   ]
  },
  {
   "cell_type": "code",
   "execution_count": 15,
   "metadata": {
    "collapsed": true
   },
   "outputs": [],
   "source": [
    "# calculating the correlation function \n",
    "def correlated_function(data,w):\n",
    "    '''\n",
    "        Function for  calculating the correlation function \n",
    "        :param data: data for calculating the correlation function (x,y,z, radial velocity)\n",
    "        :param w: parameter w in the equation of the correlation function \n",
    "        :return: phase-space separation (delta)^2\n",
    "        \n",
    "    '''\n",
    "\n",
    "    dia=[]\n",
    "    \n",
    "    for ii in range(0,len(data.rv)): \n",
    "        \n",
    "        \n",
    "    \n",
    "        vi = np.repeat(data.rv[ii],len(data.rv))\n",
    "        xi = np.repeat(data.x[ii],len(data.rv))\n",
    "        yi = np.repeat(data.y[ii],len(data.rv))\n",
    "        zi = np.repeat(data.z[ii],len(data.rv))\n",
    "        \n",
    "        diffv = w**2*(vi - data.rv)**2\n",
    "        diffx = (xi - data.x)**2\n",
    "        diffy = (yi - data.y)**2\n",
    "        diffz = (zi - data.z)**2\n",
    "        \n",
    "        \n",
    "        \n",
    "        \n",
    "        diff = diffv+diffx+diffy+diffz\n",
    "        #print (diffv, diffx, diffy, diffz,diff)\n",
    "            \n",
    "            \n",
    "        dia.append(diff)\n",
    "        \n",
    "        \n",
    "    diaf = np.array(dia)[np.triu_indices(len(diff),1)]\n",
    "    return diaf\n",
    "    \n",
    "    \n",
    "        \n",
    "        \n",
    "    \n",
    "    "
   ]
  },
  {
   "cell_type": "code",
   "execution_count": 16,
   "metadata": {
    "collapsed": true
   },
   "outputs": [],
   "source": [
    "c = SkyCoord(x=df2['x'], y=df2['y'], z=df2['z'], unit='kpc',representation_type='cartesian')"
   ]
  },
  {
   "cell_type": "code",
   "execution_count": 17,
   "metadata": {
    "collapsed": true
   },
   "outputs": [],
   "source": [
    "testcor = correlated_function(k,0.04)"
   ]
  },
  {
   "cell_type": "code",
   "execution_count": 21,
   "metadata": {
    "collapsed": true
   },
   "outputs": [],
   "source": [
    "lb_random = Comp(df2['r'],c.galactic.l/u.degree,c.galactic.b/u.degree,df2['Vgal'])"
   ]
  },
  {
   "cell_type": "code",
   "execution_count": 22,
   "metadata": {},
   "outputs": [
    {
     "data": {
      "text/plain": [
       "59.9"
      ]
     },
     "execution_count": 22,
     "metadata": {},
     "output_type": "execute_result"
    }
   ],
   "source": [
    "max(lb_random.x)"
   ]
  },
  {
   "cell_type": "code",
   "execution_count": null,
   "metadata": {
    "collapsed": true
   },
   "outputs": [],
   "source": []
  },
  {
   "cell_type": "code",
   "execution_count": 92,
   "metadata": {
    "collapsed": true
   },
   "outputs": [],
   "source": [
    "def new_set(data,num,num_bins):\n",
    "    '''\n",
    "        Function for  calculating the equivalent count for pairs of random points\n",
    "        :param data: data for calculating the correlation function (x,y,z, radial velocity)\n",
    "        :param num: number of realizations \n",
    "        :param bins: number of bins for the data\n",
    "        :return: the equivalent count for pairs of random points\n",
    "        \n",
    "    '''\n",
    "\n",
    "    \n",
    "    new_setl = []\n",
    "    new_setb = []\n",
    "    new_r = []\n",
    "    new_setvi = [] \n",
    "    cdf2 = []\n",
    "    bins = []\n",
    "    for jj in range(0,num):\n",
    "        #shuffleing random pairs of (l,b) and (r,v) to get new (l,b,r,v) in order to calculate equivalent count for pairs of random points\n",
    "        \n",
    "        index = np.random.choice(len(data.rv), len(data.rv), replace=False)\n",
    "        index2 = np.random.choice(len(data.x), len(data.x), replace=False)\n",
    "        new_setvi = data.rv[index]\n",
    "        new_r = data.x[index] \n",
    "        new_setl = data.y[index2] \n",
    "        new_setb = data.z[index2]\n",
    "        c2 = SkyCoord(frame = 'galactic',l=new_setl*u.degree,\n",
    "             b=new_setb*u.degree, distance=new_r*u.kpc)\n",
    "        randomf = Comp(c2.cartesian.x, c2.cartesian.y,c2.cartesian.z,new_setvi)\n",
    "        #calculating the phase-space separation (delta)^2\n",
    "        rand_cor = correlated_function(randomf,0.04)\n",
    "        num_bins = num_bins\n",
    "        #calculating the equivalent count for pairs of random points\n",
    "        counts2, bin_edges2 = np.histogram (np.sqrt(rand_cor), bins=num_bins, normed=True)\n",
    "        cdf2.append(np.cumsum (counts2))\n",
    "        bins.append(bin_edges2)\n",
    "    \n",
    "    \n",
    "   \n",
    "\n",
    "    \n",
    "    return bins,cdf2\n"
   ]
  },
  {
   "cell_type": "code",
   "execution_count": 126,
   "metadata": {},
   "outputs": [
    {
     "name": "stderr",
     "output_type": "stream",
     "text": [
      "/Users/Jenny/anaconda3/lib/python3.6/site-packages/ipykernel_launcher.py:20: VisibleDeprecationWarning: Passing `normed=True` on non-uniform bins has always been broken, and computes neither the probability density function nor the probability mass function. The result is only correct if the bins are uniform, when density=True will produce the same result anyway. The argument will be removed in a future version of numpy.\n"
     ]
    }
   ],
   "source": [
    "random_data2bin,random_data2 = new_set(lb_random,1000,70)"
   ]
  },
  {
   "cell_type": "code",
   "execution_count": 127,
   "metadata": {
    "collapsed": true
   },
   "outputs": [],
   "source": [
    "cdf1 = np.mean(random_data2,axis = 0)\n",
    "bin_edges1 = np.mean(random_data2bin,axis = 0)"
   ]
  },
  {
   "cell_type": "code",
   "execution_count": 128,
   "metadata": {},
   "outputs": [],
   "source": [
    "cdf1test =cdf1[bin_edges1[:-1] < 20]\n",
    "bin_edges1test = bin_edges1[bin_edges1 < 20]"
   ]
  },
  {
   "cell_type": "code",
   "execution_count": 129,
   "metadata": {},
   "outputs": [
    {
     "data": {
      "text/plain": [
       "13"
      ]
     },
     "execution_count": 129,
     "metadata": {},
     "output_type": "execute_result"
    }
   ],
   "source": [
    "len(cdf1test)"
   ]
  },
  {
   "cell_type": "code",
   "execution_count": 130,
   "metadata": {},
   "outputs": [
    {
     "data": {
      "image/png": "[encoded data removed]",
      "text/plain": [
       "<Figure size 640x480 with 1 Axes>"
      ]
     },
     "metadata": {},
     "output_type": "display_data"
    }
   ],
   "source": [
    "#plotting the cdf for random points\n",
    "plt.plot (bin_edges1[:-1], cdf1/cdf1[-1])\n",
    "plt.xlabel('delta')\n",
    "plt.ylabel('CDF for random pairs')\n",
    "plt.show()"
   ]
  },
  {
   "cell_type": "code",
   "execution_count": 131,
   "metadata": {},
   "outputs": [
    {
     "data": {
      "text/plain": [
       "14"
      ]
     },
     "execution_count": 131,
     "metadata": {},
     "output_type": "execute_result"
    }
   ],
   "source": [
    "len(np.array(cdf2/cdf2[-1])[bin_edges2[:-1] < 20])"
   ]
  },
  {
   "cell_type": "code",
   "execution_count": 132,
   "metadata": {},
   "outputs": [],
   "source": [
    "cdf2test =cdf2[bin_edges2[:-1] < 20]\n",
    "bin_edges2test = bin_edges2[bin_edges2 < 20]"
   ]
  },
  {
   "cell_type": "code",
   "execution_count": 136,
   "metadata": {},
   "outputs": [
    {
     "name": "stderr",
     "output_type": "stream",
     "text": [
      "/Users/Jenny/anaconda3/lib/python3.6/site-packages/ipykernel_launcher.py:2: DeprecationWarning: Passing normed=False is deprecated, and has no effect. Consider passing the density argument instead.\n",
      "  \n"
     ]
    },
    {
     "name": "stdout",
     "output_type": "stream",
     "text": [
      "[611.01     267.8704   262.700496 ... 607.913376  74.591264 429.473056]\n"
     ]
    },
    {
     "data": {
      "image/png": "[encoded data removed]",
      "text/plain": [
       "<Figure size 640x480 with 1 Axes>"
      ]
     },
     "metadata": {},
     "output_type": "display_data"
    }
   ],
   "source": [
    "#num_bins = 70\n",
    "#plotting the cdf for the data\n",
    "counts2, bin_edges2 = np.histogram (np.sqrt(testcor), bins=70, normed=False)\n",
    "cdf2 = np.cumsum (counts2)\n",
    "print (testcor)\n",
    "plt.plot (bin_edges2[:-1], cdf2/cdf2[-1])\n",
    "plt.xlabel('delta kpc')\n",
    "plt.ylabel('CDF for star pairs')\n",
    "plt.show()"
   ]
  },
  {
   "cell_type": "code",
   "execution_count": 140,
   "metadata": {},
   "outputs": [
    {
     "data": {
      "image/png": "[encoded data removed]",
      "text/plain": [
       "<Figure size 640x480 with 1 Axes>"
      ]
     },
     "metadata": {},
     "output_type": "display_data"
    }
   ],
   "source": [
    "#final result for the correlation function \n",
    "plt.plot(bin_edges1[:-1],cdf2/cdf2[-1]/(cdf1/cdf1[-1])-1,'.')\n",
    "plt.ylabel('ratio-1 between CDFs')\n",
    "plt.xlabel('Delta (kpc)')\n",
    "plt.xlim(0,20)\n",
    "#plt.ylim(0,0.95)\n",
    "plt.show()"
   ]
  },
  {
   "cell_type": "code",
   "execution_count": null,
   "metadata": {
    "collapsed": true
   },
   "outputs": [],
   "source": []
  }
 ],
 "metadata": {
  "kernelspec": {
   "display_name": "Python 3",
   "language": "python",
   "name": "python3"
  },
  "language_info": {
   "codemirror_mode": {
    "name": "ipython",
    "version": 3
   },
   "file_extension": ".py",
   "mimetype": "text/x-python",
   "name": "python",
   "nbconvert_exporter": "python",
   "pygments_lexer": "ipython3",
   "version": "3.6.8"
  }
 },
 "nbformat": 4,
 "nbformat_minor": 2
}
